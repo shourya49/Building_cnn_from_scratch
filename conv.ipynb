{
 "cells": [
  {
   "cell_type": "code",
   "execution_count": 6,
   "id": "f0123293-5a18-4616-b002-1aa79ef23feb",
   "metadata": {},
   "outputs": [],
   "source": [
    "import numpy as np\n"
   ]
  },
  {
   "cell_type": "code",
   "execution_count": 24,
   "id": "fde32639-6717-46f4-810a-b88d0a0a954e",
   "metadata": {},
   "outputs": [],
   "source": [
    "# Implementing convolution layer\n",
    "\n",
    "class Conv3x3:\n",
    "    # convolution layer with 3x3 filter\n",
    "\n",
    "    def __init__(self, num_filters):\n",
    "        self.num_filters = num_filters\n",
    "\n",
    "        # filters is a 3d array with dimensions(num_filters,3,3)\n",
    "        # We divide by 9 to reduce the variance of our initial values\n",
    "        self.filters = np.random.randn(num_filters, 3, 3) / 9\n",
    "\n",
    "    def iterate_regions(self, image):\n",
    "        '''\n",
    "        Generates all possible 3x3 image regions using valid padding.\n",
    "        - image is a 2d numpy array\n",
    "        '''\n",
    "        h, w = image.shape\n",
    "        \n",
    "    \n",
    "        for i in range(h - 2):\n",
    "            \n",
    "            for j in range(w - 2):\n",
    "                \n",
    "                im_region = image[i:(i + 3), j:(j + 3)] # 3x3 array contain relevant image region\n",
    "                \n",
    "                yield im_region, i, j\n",
    "\n",
    "    def forward(self, input):\n",
    "        '''\n",
    "        Performs a forward pass of the conv layer using the given input.\n",
    "        Returns a 3d numpy array with dimensions (h, w, num_filters).\n",
    "        - input is a 2d numpy array\n",
    "        '''\n",
    "        h, w = input.shape\n",
    "        output = np.zeros((h - 2, w - 2, self.num_filters))\n",
    "    \n",
    "        for im_region, i, j in self.iterate_regions(input):\n",
    "          output[i, j] = np.sum(im_region * self.filters, axis=(1, 2))\n",
    "    \n",
    "        return output"
   ]
  },
  {
   "cell_type": "markdown",
   "id": "1ffd52ce-7e8b-4453-955c-ec3cf0ef7a56",
   "metadata": {},
   "source": [
    "# iterate_regions(self, image)\n",
    "Given a 2D input image (like a single grayscale image), this method yields every possible 3×3 region in the image (sliding window).\n",
    "\n",
    "It does not apply the filter; it just extracts the regions for later use."
   ]
  },
  {
   "cell_type": "markdown",
   "id": "8a39dfc3-4f20-4520-b1d4-a14aece5b52b",
   "metadata": {},
   "source": [
    "**We have im_region, a 3x3 array containing the relevant image region.\n",
    "We have self.filters, a 3d array.\n",
    "We do im_region * self.filters, which uses numpy’s broadcasting feature to element-wise multiply the two arrays. The result is a 3d array with the same dimension as self.filters.\n",
    "We np.sum() the result of the previous step using axis=(1, 2), which produces a 1d array of length num_filters where each element contains the convolution result for the corresponding filter.\n",
    "We assign the result to output[i, j], which contains convolution results for pixel (i, j) in the output.**"
   ]
  },
  {
   "cell_type": "code",
   "execution_count": 14,
   "id": "2aa1fd90-ffa4-4a18-aeff-5d3d1fa3e6db",
   "metadata": {},
   "outputs": [],
   "source": [
    "import numpy as np\n",
    "\n",
    "image = np.array([\n",
    "    [1, 2, 3, 0, 1],\n",
    "    [0, 1, 2, 3, 1],\n",
    "    [1, 0, 1, 2, 2],\n",
    "    [2, 1, 0, 1, 1],\n",
    "    [0, 1, 2, 1, 0]\n",
    "])\n"
   ]
  },
  {
   "cell_type": "code",
   "execution_count": 17,
   "id": "43a1f70b-b59f-4873-ac66-198ce64d990e",
   "metadata": {},
   "outputs": [
    {
     "data": {
      "text/plain": [
       "<generator object Conv3x3.iterate_regions at 0x0000027F7F623BC0>"
      ]
     },
     "execution_count": 17,
     "metadata": {},
     "output_type": "execute_result"
    }
   ],
   "source": [
    "conv = Conv3x3(1)\n",
    "conv.iterate_regions(image)"
   ]
  },
  {
   "cell_type": "code",
   "execution_count": 20,
   "id": "ae0beacb-8785-4eea-8943-d1238ed6f6fb",
   "metadata": {},
   "outputs": [
    {
     "name": "stdout",
     "output_type": "stream",
     "text": [
      "5 5\n",
      "i :0\n",
      "j :0\n",
      "region [[1 2 3]\n",
      " [0 1 2]\n",
      " [1 0 1]]\n",
      "Region at (0, 0):\n",
      "[[1 2 3]\n",
      " [0 1 2]\n",
      " [1 0 1]]\n",
      "j :1\n",
      "region [[2 3 0]\n",
      " [1 2 3]\n",
      " [0 1 2]]\n",
      "Region at (0, 1):\n",
      "[[2 3 0]\n",
      " [1 2 3]\n",
      " [0 1 2]]\n",
      "j :2\n",
      "region [[3 0 1]\n",
      " [2 3 1]\n",
      " [1 2 2]]\n",
      "Region at (0, 2):\n",
      "[[3 0 1]\n",
      " [2 3 1]\n",
      " [1 2 2]]\n",
      "i :1\n",
      "j :0\n",
      "region [[0 1 2]\n",
      " [1 0 1]\n",
      " [2 1 0]]\n",
      "Region at (1, 0):\n",
      "[[0 1 2]\n",
      " [1 0 1]\n",
      " [2 1 0]]\n",
      "j :1\n",
      "region [[1 2 3]\n",
      " [0 1 2]\n",
      " [1 0 1]]\n",
      "Region at (1, 1):\n",
      "[[1 2 3]\n",
      " [0 1 2]\n",
      " [1 0 1]]\n",
      "j :2\n",
      "region [[2 3 1]\n",
      " [1 2 2]\n",
      " [0 1 1]]\n",
      "Region at (1, 2):\n",
      "[[2 3 1]\n",
      " [1 2 2]\n",
      " [0 1 1]]\n",
      "i :2\n",
      "j :0\n",
      "region [[1 0 1]\n",
      " [2 1 0]\n",
      " [0 1 2]]\n",
      "Region at (2, 0):\n",
      "[[1 0 1]\n",
      " [2 1 0]\n",
      " [0 1 2]]\n",
      "j :1\n",
      "region [[0 1 2]\n",
      " [1 0 1]\n",
      " [1 2 1]]\n",
      "Region at (2, 1):\n",
      "[[0 1 2]\n",
      " [1 0 1]\n",
      " [1 2 1]]\n",
      "j :2\n",
      "region [[1 2 2]\n",
      " [0 1 1]\n",
      " [2 1 0]]\n",
      "Region at (2, 2):\n",
      "[[1 2 2]\n",
      " [0 1 1]\n",
      " [2 1 0]]\n"
     ]
    }
   ],
   "source": [
    "conv = Conv3x3(1)\n",
    "\n",
    "# Loop over each region generated by the function\n",
    "for region, i, j in conv.iterate_regions(image):\n",
    "    print(f\"Region at ({i}, {j}):\")\n",
    "    print(region)"
   ]
  },
  {
   "cell_type": "code",
   "execution_count": 26,
   "id": "e98dcb29-2b7d-47b6-9727-3baedc428b51",
   "metadata": {},
   "outputs": [
    {
     "data": {
      "text/plain": [
       "array([[[-0.32132096],\n",
       "        [-0.49659488],\n",
       "        [-0.15307762]],\n",
       "\n",
       "       [[ 0.20196325],\n",
       "        [-0.32132096],\n",
       "        [-0.39668205]],\n",
       "\n",
       "       [[-0.12157863],\n",
       "        [-0.10261442],\n",
       "        [-0.05254872]]])"
      ]
     },
     "execution_count": 26,
     "metadata": {},
     "output_type": "execute_result"
    }
   ],
   "source": [
    "conv = Conv3x3(1)\n",
    "output = conv.forward(image)\n",
    "output"
   ]
  },
  {
   "cell_type": "markdown",
   "id": "20952d3a-ac1d-4236-8b22-c05052de7b6c",
   "metadata": {},
   "source": [
    "# Implementing backprop"
   ]
  },
  {
   "cell_type": "code",
   "execution_count": 27,
   "id": "59965d69-f3e0-44de-b180-249e8b257966",
   "metadata": {},
   "outputs": [],
   "source": [
    "class Conv3x3:\n",
    "  # A Convolution layer using 3x3 filters.\n",
    "\n",
    "  def __init__(self, num_filters):\n",
    "    self.num_filters = num_filters\n",
    "\n",
    "    # filters is a 3d array with dimensions (num_filters, 3, 3)\n",
    "    # We divide by 9 to reduce the variance of our initial values\n",
    "    self.filters = np.random.randn(num_filters, 3, 3) / 9\n",
    "\n",
    "  def iterate_regions(self, image):\n",
    "    '''\n",
    "    Generates all possible 3x3 image regions using valid padding.\n",
    "    - image is a 2d numpy array.\n",
    "    '''\n",
    "    h, w = image.shape\n",
    "\n",
    "    for i in range(h - 2):\n",
    "      for j in range(w - 2):\n",
    "        im_region = image[i:(i + 3), j:(j + 3)]\n",
    "        yield im_region, i, j\n",
    "\n",
    "  def forward(self, input):\n",
    "    '''\n",
    "    Performs a forward pass of the conv layer using the given input.\n",
    "    Returns a 3d numpy array with dimensions (h, w, num_filters).\n",
    "    - input is a 2d numpy array\n",
    "    '''\n",
    "    self.last_input = input\n",
    "\n",
    "    h, w = input.shape\n",
    "    output = np.zeros((h - 2, w - 2, self.num_filters))\n",
    "\n",
    "    for im_region, i, j in self.iterate_regions(input):\n",
    "      output[i, j] = np.sum(im_region * self.filters, axis=(1, 2))\n",
    "\n",
    "    return output\n",
    "\n",
    "  def backprop(self, d_L_d_out, learn_rate):\n",
    "    '''\n",
    "    Performs a backward pass of the conv layer.\n",
    "    - d_L_d_out is the loss gradient for this layer's outputs.\n",
    "    - learn_rate is a float.\n",
    "    '''\n",
    "    d_L_d_filters = np.zeros(self.filters.shape)\n",
    "\n",
    "    for im_region, i, j in self.iterate_regions(self.last_input):\n",
    "      for f in range(self.num_filters):\n",
    "        d_L_d_filters[f] += d_L_d_out[i, j, f] * im_region\n",
    "\n",
    "    # Update filters\n",
    "    self.filters -= learn_rate * d_L_d_filters\n",
    "\n",
    "    # We aren't returning anything here since we use Conv3x3 as the first layer in our CNN.\n",
    "    # Otherwise, we'd need to return the loss gradient for this layer's inputs, just like every\n",
    "    # other layer in our CNN.\n",
    "    return None"
   ]
  },
  {
   "cell_type": "code",
   "execution_count": null,
   "id": "3e8c962d-c71f-4d02-8298-5922895a86e5",
   "metadata": {},
   "outputs": [],
   "source": []
  },
  {
   "cell_type": "code",
   "execution_count": null,
   "id": "f7ad2029-e6ce-4dc2-9c7d-9231221dbf8d",
   "metadata": {},
   "outputs": [],
   "source": []
  }
 ],
 "metadata": {
  "kernelspec": {
   "display_name": "Python 3 (ipykernel)",
   "language": "python",
   "name": "python3"
  },
  "language_info": {
   "codemirror_mode": {
    "name": "ipython",
    "version": 3
   },
   "file_extension": ".py",
   "mimetype": "text/x-python",
   "name": "python",
   "nbconvert_exporter": "python",
   "pygments_lexer": "ipython3",
   "version": "3.12.3"
  }
 },
 "nbformat": 4,
 "nbformat_minor": 5
}
